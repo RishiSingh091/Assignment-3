{
 "cells": [
  {
   "cell_type": "markdown",
   "id": "d411ee80-e472-493a-95b7-5bf796d9b842",
   "metadata": {},
   "source": [
    "# Why are functions advantageous to have in your programs?"
   ]
  },
  {
   "cell_type": "code",
   "execution_count": 3,
   "id": "bc46a518-7192-402c-a71b-86f3d611a084",
   "metadata": {},
   "outputs": [],
   "source": [
    "In Python, a function is a block of reusable code that performs a specific task. Functions are a \n",
    "fundamental concept in programming that help organize code, promote reusability, \n",
    "and make programs more modular.\n"
   ]
  },
  {
   "cell_type": "markdown",
   "id": "778c82c8-b5ed-4767-9e38-09aca4a3b87c",
   "metadata": {},
   "source": [
    "# When does the code in a function run: when it's specified or when it's called?"
   ]
  },
  {
   "cell_type": "code",
   "execution_count": null,
   "id": "f11fb7c4-8631-4378-8780-bb10a0cda258",
   "metadata": {},
   "outputs": [],
   "source": [
    "The code in a function run when the function is called."
   ]
  },
  {
   "cell_type": "markdown",
   "id": "d6721c46-a2cf-4572-b49a-a000b1c511ae",
   "metadata": {},
   "source": [
    "# What statement creates a function?"
   ]
  },
  {
   "cell_type": "code",
   "execution_count": null,
   "id": "ff83a2a9-42df-4fb2-afde-128801ebfbe8",
   "metadata": {},
   "outputs": [],
   "source": [
    "The def statement creates a function"
   ]
  },
  {
   "cell_type": "markdown",
   "id": "77b1fa30-a9cd-49f6-ace3-821d7c5ce7b7",
   "metadata": {},
   "source": [
    "# What is the difference between a function and a function call?"
   ]
  },
  {
   "cell_type": "code",
   "execution_count": null,
   "id": "d1e24295-c7a8-4686-9afa-c460a6cfa4f6",
   "metadata": {},
   "outputs": [],
   "source": [
    "A function is a block of code that is defined to perform a specific task. It includes the \n",
    "function's name, parameters and the code that runs when the function is executed."
   ]
  },
  {
   "cell_type": "markdown",
   "id": "5695bb7c-1c7c-4505-80d1-c90bbd5c160c",
   "metadata": {},
   "source": [
    "# How many global scopes are there in a Python program? How many local scopes?"
   ]
  },
  {
   "cell_type": "code",
   "execution_count": null,
   "id": "32c2bd64-9388-434f-9f6f-26b3bbb5d735",
   "metadata": {},
   "outputs": [],
   "source": []
  },
  {
   "cell_type": "markdown",
   "id": "02455842-75e5-48f4-9fda-dc93936ce5c0",
   "metadata": {},
   "source": [
    "# What happens to variables in a local scope when the function call returns?"
   ]
  },
  {
   "cell_type": "code",
   "execution_count": null,
   "id": "afd5d8e6-5d39-49a9-833d-0f7e84c75c90",
   "metadata": {},
   "outputs": [],
   "source": [
    "When a function call returns in Python, the local variables that were defined within the function \n",
    "are deallocated from memory"
   ]
  },
  {
   "cell_type": "markdown",
   "id": "722037c1-4db2-4911-89a5-f459e444e8c2",
   "metadata": {},
   "source": [
    "# What is the concept of a return value? Is it possible to have a return value in an expression?"
   ]
  },
  {
   "cell_type": "code",
   "execution_count": null,
   "id": "2d8502d9-a16f-4bbc-b998-25de2b9fdb88",
   "metadata": {},
   "outputs": [],
   "source": [
    "A return value is the result that a function or method produces when it completes its execution.\n",
    "\n",
    "Yes, it is possible to use a return value in an expression. The return value of a function can be \n",
    "directly used in another expression without storing it in a variable."
   ]
  },
  {
   "cell_type": "markdown",
   "id": "f866c2ae-d928-454a-bd8f-af27afc7e891",
   "metadata": {},
   "source": [
    "# If a function does not have a return statement, what is the return value of a call to that function?"
   ]
  },
  {
   "cell_type": "code",
   "execution_count": null,
   "id": "84499d5a-e337-4d2d-9782-78c818bc5421",
   "metadata": {},
   "outputs": [],
   "source": [
    "If function does not have a return statement its return value is none."
   ]
  },
  {
   "cell_type": "markdown",
   "id": "95b7ad5c-405c-4ece-92b4-27e5e885f03e",
   "metadata": {},
   "source": [
    "# How do you make a function variable refer to the global variable?"
   ]
  },
  {
   "cell_type": "code",
   "execution_count": null,
   "id": "c4b617df-005d-4360-94f2-598fa5ecf295",
   "metadata": {},
   "outputs": [],
   "source": [
    "In Python, you can use the global keyword inside a function to refer to a global variable"
   ]
  },
  {
   "cell_type": "markdown",
   "id": "b0f9a415-f687-40e8-b3c4-120659346142",
   "metadata": {},
   "source": [
    "# What is the data type of None?"
   ]
  },
  {
   "cell_type": "code",
   "execution_count": null,
   "id": "d80fcd86-4eac-4360-82e0-2d9d7d0d775b",
   "metadata": {},
   "outputs": [],
   "source": [
    "The data type of none is None type."
   ]
  },
  {
   "cell_type": "markdown",
   "id": "5072a29f-f951-4937-83c0-bf026c09c1eb",
   "metadata": {},
   "source": [
    "# How can you prevent a program from crashing when it gets an error?"
   ]
  },
  {
   "cell_type": "code",
   "execution_count": null,
   "id": "908135d8-43f1-4d14-93ec-8985c3b56ef5",
   "metadata": {},
   "outputs": [],
   "source": [
    " try, except, else, and finally is used in program from crashing when it gets an error"
   ]
  },
  {
   "cell_type": "markdown",
   "id": "f7119495-bc00-4319-b800-b40dc13b57a6",
   "metadata": {},
   "source": [
    "# What is the purpose of the try clause? What is the purpose of the except clause?"
   ]
  },
  {
   "cell_type": "code",
   "execution_count": null,
   "id": "a42cac55-e2d3-46f3-877d-b10293beef66",
   "metadata": {},
   "outputs": [],
   "source": [
    "The try clause is used when their is chance to get an error code that might raise an exception.\n",
    "The except clause is used to handle the exceptions that are raised in the try block."
   ]
  }
 ],
 "metadata": {
  "kernelspec": {
   "display_name": "Python 3 (ipykernel)",
   "language": "python",
   "name": "python3"
  },
  "language_info": {
   "codemirror_mode": {
    "name": "ipython",
    "version": 3
   },
   "file_extension": ".py",
   "mimetype": "text/x-python",
   "name": "python",
   "nbconvert_exporter": "python",
   "pygments_lexer": "ipython3",
   "version": "3.10.2"
  }
 },
 "nbformat": 4,
 "nbformat_minor": 5
}
